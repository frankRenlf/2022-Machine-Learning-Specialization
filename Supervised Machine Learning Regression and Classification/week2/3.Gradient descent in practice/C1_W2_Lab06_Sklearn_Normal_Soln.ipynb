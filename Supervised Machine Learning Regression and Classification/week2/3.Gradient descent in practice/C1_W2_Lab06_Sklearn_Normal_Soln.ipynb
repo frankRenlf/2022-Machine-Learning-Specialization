{
 "cells": [
  {
   "cell_type": "markdown",
   "metadata": {},
   "source": [
    "# Optional Lab: Linear Regression using Scikit-Learn"
   ]
  },
  {
   "cell_type": "markdown",
   "metadata": {},
   "source": [
    "There is an open-source, commercially usable machine learning toolkit called [scikit-learn](https://scikit-learn.org/stable/index.html). This toolkit contains implementations of many of the algorithms that you will work with in this course.\n",
    "\n"
   ]
  },
  {
   "cell_type": "markdown",
   "metadata": {},
   "source": [
    "## Goals\n",
    "In this lab you will:\n",
    "- Utilize  scikit-learn to implement linear regression using a close form solution based on the normal equation"
   ]
  },
  {
   "cell_type": "markdown",
   "metadata": {},
   "source": [
    "## Tools\n",
    "You will utilize functions from scikit-learn as well as matplotlib and NumPy. "
   ]
  },
  {
   "cell_type": "code",
   "execution_count": 26,
   "metadata": {},
   "outputs": [],
   "source": [
    "import numpy as np\n",
    "np.set_printoptions(precision=2)\n",
    "from sklearn.linear_model import LinearRegression, SGDRegressor\n",
    "from sklearn.preprocessing import StandardScaler\n",
    "from lab_utils_multi import  load_house_data\n",
    "import matplotlib.pyplot as plt\n",
    "dlblue = '#0096ff'; dlorange = '#FF9300'; dldarkred='#C00000'; dlmagenta='#FF40FF'; dlpurple='#7030A0'; \n",
    "plt.style.use('./deeplearning.mplstyle')"
   ]
  },
  {
   "cell_type": "markdown",
   "metadata": {},
   "source": [
    "<a name=\"toc_40291_2\"></a>\n",
    "# Linear Regression, closed-form solution\n",
    "Scikit-learn has the [linear regression model](https://scikit-learn.org/stable/modules/generated/sklearn.linear_model.LinearRegression.html#sklearn.linear_model.LinearRegression) which implements a closed-form linear regression.\n",
    "\n",
    "Let's use the data from the early labs - a house with 1000 square feet sold for \\\\$300,000 and a house with 2000 square feet sold for \\\\$500,000.\n",
    "\n",
    "| Size (1000 sqft)     | Price (1000s of dollars) |\n",
    "| ----------------| ------------------------ |\n",
    "| 1               | 300                      |\n",
    "| 2               | 500                      |\n"
   ]
  },
  {
   "cell_type": "markdown",
   "metadata": {},
   "source": [
    "### Load the data set"
   ]
  },
  {
   "cell_type": "code",
   "execution_count": 27,
   "metadata": {},
   "outputs": [],
   "source": [
    "X_train = np.array([1.0, 2.0])   #features\n",
    "y_train = np.array([300, 500])   #target value"
   ]
  },
  {
   "cell_type": "markdown",
   "metadata": {},
   "source": [
    "### Create and fit the model\n",
    "The code below performs regression using scikit-learn. \n",
    "The first step creates a regression object.  \n",
    "The second step utilizes one of the methods associated with the object, `fit`. This performs regression, fitting the parameters to the input data. The toolkit expects a two-dimensional X matrix."
   ]
  },
  {
   "cell_type": "code",
   "execution_count": 28,
   "metadata": {},
   "outputs": [
    {
     "data": {
      "text/plain": "LinearRegression()",
      "text/html": "<style>#sk-container-id-5 {color: black;background-color: white;}#sk-container-id-5 pre{padding: 0;}#sk-container-id-5 div.sk-toggleable {background-color: white;}#sk-container-id-5 label.sk-toggleable__label {cursor: pointer;display: block;width: 100%;margin-bottom: 0;padding: 0.3em;box-sizing: border-box;text-align: center;}#sk-container-id-5 label.sk-toggleable__label-arrow:before {content: \"▸\";float: left;margin-right: 0.25em;color: #696969;}#sk-container-id-5 label.sk-toggleable__label-arrow:hover:before {color: black;}#sk-container-id-5 div.sk-estimator:hover label.sk-toggleable__label-arrow:before {color: black;}#sk-container-id-5 div.sk-toggleable__content {max-height: 0;max-width: 0;overflow: hidden;text-align: left;background-color: #f0f8ff;}#sk-container-id-5 div.sk-toggleable__content pre {margin: 0.2em;color: black;border-radius: 0.25em;background-color: #f0f8ff;}#sk-container-id-5 input.sk-toggleable__control:checked~div.sk-toggleable__content {max-height: 200px;max-width: 100%;overflow: auto;}#sk-container-id-5 input.sk-toggleable__control:checked~label.sk-toggleable__label-arrow:before {content: \"▾\";}#sk-container-id-5 div.sk-estimator input.sk-toggleable__control:checked~label.sk-toggleable__label {background-color: #d4ebff;}#sk-container-id-5 div.sk-label input.sk-toggleable__control:checked~label.sk-toggleable__label {background-color: #d4ebff;}#sk-container-id-5 input.sk-hidden--visually {border: 0;clip: rect(1px 1px 1px 1px);clip: rect(1px, 1px, 1px, 1px);height: 1px;margin: -1px;overflow: hidden;padding: 0;position: absolute;width: 1px;}#sk-container-id-5 div.sk-estimator {font-family: monospace;background-color: #f0f8ff;border: 1px dotted black;border-radius: 0.25em;box-sizing: border-box;margin-bottom: 0.5em;}#sk-container-id-5 div.sk-estimator:hover {background-color: #d4ebff;}#sk-container-id-5 div.sk-parallel-item::after {content: \"\";width: 100%;border-bottom: 1px solid gray;flex-grow: 1;}#sk-container-id-5 div.sk-label:hover label.sk-toggleable__label {background-color: #d4ebff;}#sk-container-id-5 div.sk-serial::before {content: \"\";position: absolute;border-left: 1px solid gray;box-sizing: border-box;top: 0;bottom: 0;left: 50%;z-index: 0;}#sk-container-id-5 div.sk-serial {display: flex;flex-direction: column;align-items: center;background-color: white;padding-right: 0.2em;padding-left: 0.2em;position: relative;}#sk-container-id-5 div.sk-item {position: relative;z-index: 1;}#sk-container-id-5 div.sk-parallel {display: flex;align-items: stretch;justify-content: center;background-color: white;position: relative;}#sk-container-id-5 div.sk-item::before, #sk-container-id-5 div.sk-parallel-item::before {content: \"\";position: absolute;border-left: 1px solid gray;box-sizing: border-box;top: 0;bottom: 0;left: 50%;z-index: -1;}#sk-container-id-5 div.sk-parallel-item {display: flex;flex-direction: column;z-index: 1;position: relative;background-color: white;}#sk-container-id-5 div.sk-parallel-item:first-child::after {align-self: flex-end;width: 50%;}#sk-container-id-5 div.sk-parallel-item:last-child::after {align-self: flex-start;width: 50%;}#sk-container-id-5 div.sk-parallel-item:only-child::after {width: 0;}#sk-container-id-5 div.sk-dashed-wrapped {border: 1px dashed gray;margin: 0 0.4em 0.5em 0.4em;box-sizing: border-box;padding-bottom: 0.4em;background-color: white;}#sk-container-id-5 div.sk-label label {font-family: monospace;font-weight: bold;display: inline-block;line-height: 1.2em;}#sk-container-id-5 div.sk-label-container {text-align: center;}#sk-container-id-5 div.sk-container {/* jupyter's `normalize.less` sets `[hidden] { display: none; }` but bootstrap.min.css set `[hidden] { display: none !important; }` so we also need the `!important` here to be able to override the default hidden behavior on the sphinx rendered scikit-learn.org. See: https://github.com/scikit-learn/scikit-learn/issues/21755 */display: inline-block !important;position: relative;}#sk-container-id-5 div.sk-text-repr-fallback {display: none;}</style><div id=\"sk-container-id-5\" class=\"sk-top-container\"><div class=\"sk-text-repr-fallback\"><pre>LinearRegression()</pre><b>In a Jupyter environment, please rerun this cell to show the HTML representation or trust the notebook. <br />On GitHub, the HTML representation is unable to render, please try loading this page with nbviewer.org.</b></div><div class=\"sk-container\" hidden><div class=\"sk-item\"><div class=\"sk-estimator sk-toggleable\"><input class=\"sk-toggleable__control sk-hidden--visually\" id=\"sk-estimator-id-5\" type=\"checkbox\" checked><label for=\"sk-estimator-id-5\" class=\"sk-toggleable__label sk-toggleable__label-arrow\">LinearRegression</label><div class=\"sk-toggleable__content\"><pre>LinearRegression()</pre></div></div></div></div></div>"
     },
     "execution_count": 28,
     "metadata": {},
     "output_type": "execute_result"
    }
   ],
   "source": [
    "linear_model = LinearRegression()\n",
    "#X must be a 2-D Matrix\n",
    "linear_model.fit(X_train.reshape(-1, 1), y_train)"
   ]
  },
  {
   "cell_type": "markdown",
   "metadata": {},
   "source": [
    "### View Parameters \n",
    "The $\\mathbf{w}$ and $\\mathbf{b}$ parameters are referred to as 'coefficients' and 'intercept' in scikit-learn."
   ]
  },
  {
   "cell_type": "code",
   "execution_count": 29,
   "metadata": {},
   "outputs": [
    {
     "name": "stdout",
     "output_type": "stream",
     "text": [
      "w = [200.], b = 100.00\n",
      "'manual' prediction: f_wb = wx+b : [240100.]\n"
     ]
    }
   ],
   "source": [
    "b = linear_model.intercept_\n",
    "w = linear_model.coef_\n",
    "print(f\"w = {w:}, b = {b:0.2f}\")\n",
    "print(f\"'manual' prediction: f_wb = wx+b : {1200*w + b}\")"
   ]
  },
  {
   "cell_type": "markdown",
   "metadata": {},
   "source": [
    "### Make Predictions\n",
    "\n",
    "Calling the `predict` function generates predictions."
   ]
  },
  {
   "cell_type": "code",
   "execution_count": 30,
   "metadata": {},
   "outputs": [
    {
     "name": "stdout",
     "output_type": "stream",
     "text": [
      "Prediction on training set: [300. 500.]\n",
      "Prediction for 1200 sqft house: $240100.00\n"
     ]
    }
   ],
   "source": [
    "y_pred = linear_model.predict(X_train.reshape(-1, 1))\n",
    "\n",
    "print(\"Prediction on training set:\", y_pred)\n",
    "\n",
    "X_test = np.array([[1200]])\n",
    "print(f\"Prediction for 1200 sqft house: ${linear_model.predict(X_test)[0]:0.2f}\")"
   ]
  },
  {
   "cell_type": "markdown",
   "metadata": {},
   "source": [
    "## Second Example\n",
    "The second example is from an earlier lab with multiple features. The final parameter values and predictions are very close to the results from the un-normalized 'long-run' from that lab. That un-normalized run took hours to produce results, while this is nearly instantaneous. The closed-form solution work well on smaller data sets such as these but can be computationally demanding on larger data sets. \n",
    ">The closed-form solution does not require normalization."
   ]
  },
  {
   "cell_type": "code",
   "execution_count": 31,
   "metadata": {},
   "outputs": [],
   "source": [
    "# load the dataset\n",
    "X_train, y_train = load_house_data()\n",
    "X_features = ['size(sqft)','bedrooms','floors','age']"
   ]
  },
  {
   "cell_type": "code",
   "execution_count": 50,
   "metadata": {},
   "outputs": [
    {
     "name": "stdout",
     "output_type": "stream",
     "text": [
      "[[1.24e+03 3.00e+00 1.00e+00 6.40e+01]\n",
      " [1.95e+03 3.00e+00 2.00e+00 1.70e+01]\n",
      " [1.72e+03 3.00e+00 2.00e+00 4.20e+01]\n",
      " [1.96e+03 3.00e+00 2.00e+00 1.50e+01]\n",
      " [1.31e+03 2.00e+00 1.00e+00 1.40e+01]\n",
      " [8.64e+02 2.00e+00 1.00e+00 6.60e+01]\n",
      " [1.84e+03 3.00e+00 1.00e+00 1.70e+01]\n",
      " [1.03e+03 3.00e+00 1.00e+00 4.30e+01]\n",
      " [3.19e+03 4.00e+00 2.00e+00 8.70e+01]\n",
      " [7.88e+02 2.00e+00 1.00e+00 8.00e+01]\n",
      " [1.20e+03 2.00e+00 2.00e+00 1.70e+01]\n",
      " [1.56e+03 2.00e+00 1.00e+00 1.80e+01]\n",
      " [1.43e+03 3.00e+00 1.00e+00 2.00e+01]\n",
      " [1.22e+03 2.00e+00 1.00e+00 1.50e+01]\n",
      " [1.09e+03 2.00e+00 1.00e+00 6.40e+01]\n",
      " [8.48e+02 1.00e+00 1.00e+00 1.70e+01]\n",
      " [1.68e+03 3.00e+00 2.00e+00 2.30e+01]\n",
      " [1.77e+03 3.00e+00 2.00e+00 1.80e+01]\n",
      " [1.04e+03 3.00e+00 1.00e+00 4.40e+01]\n",
      " [1.65e+03 2.00e+00 1.00e+00 2.10e+01]\n",
      " [1.09e+03 2.00e+00 1.00e+00 3.50e+01]\n",
      " [1.32e+03 3.00e+00 1.00e+00 1.40e+01]\n",
      " [1.59e+03 0.00e+00 1.00e+00 2.00e+01]\n",
      " [9.72e+02 2.00e+00 1.00e+00 7.30e+01]\n",
      " [1.10e+03 3.00e+00 1.00e+00 3.70e+01]\n",
      " [1.00e+03 2.00e+00 1.00e+00 5.10e+01]\n",
      " [9.04e+02 3.00e+00 1.00e+00 5.50e+01]\n",
      " [1.69e+03 3.00e+00 1.00e+00 1.30e+01]\n",
      " [1.07e+03 2.00e+00 1.00e+00 1.00e+02]\n",
      " [1.42e+03 3.00e+00 2.00e+00 1.90e+01]\n",
      " [1.16e+03 3.00e+00 1.00e+00 5.20e+01]\n",
      " [1.94e+03 3.00e+00 2.00e+00 1.20e+01]\n",
      " [1.22e+03 2.00e+00 2.00e+00 7.40e+01]\n",
      " [2.48e+03 4.00e+00 2.00e+00 1.60e+01]\n",
      " [1.20e+03 2.00e+00 1.00e+00 1.80e+01]\n",
      " [1.84e+03 3.00e+00 2.00e+00 2.00e+01]\n",
      " [1.85e+03 3.00e+00 2.00e+00 5.70e+01]\n",
      " [1.66e+03 3.00e+00 2.00e+00 1.90e+01]\n",
      " [1.10e+03 2.00e+00 2.00e+00 9.70e+01]\n",
      " [1.78e+03 3.00e+00 2.00e+00 2.80e+01]\n",
      " [2.03e+03 4.00e+00 2.00e+00 4.50e+01]\n",
      " [1.78e+03 4.00e+00 2.00e+00 1.07e+02]\n",
      " [1.07e+03 2.00e+00 1.00e+00 1.00e+02]\n",
      " [1.55e+03 3.00e+00 1.00e+00 1.60e+01]\n",
      " [1.95e+03 3.00e+00 2.00e+00 1.60e+01]\n",
      " [1.22e+03 2.00e+00 2.00e+00 1.20e+01]\n",
      " [1.62e+03 3.00e+00 1.00e+00 1.60e+01]\n",
      " [8.16e+02 2.00e+00 1.00e+00 5.80e+01]\n",
      " [1.35e+03 3.00e+00 1.00e+00 2.10e+01]\n",
      " [1.57e+03 3.00e+00 1.00e+00 1.40e+01]\n",
      " [1.49e+03 3.00e+00 1.00e+00 5.70e+01]\n",
      " [1.51e+03 2.00e+00 1.00e+00 1.60e+01]\n",
      " [1.10e+03 3.00e+00 1.00e+00 2.70e+01]\n",
      " [1.76e+03 3.00e+00 2.00e+00 2.40e+01]\n",
      " [1.21e+03 2.00e+00 1.00e+00 1.40e+01]\n",
      " [1.47e+03 3.00e+00 2.00e+00 2.40e+01]\n",
      " [1.77e+03 3.00e+00 2.00e+00 8.40e+01]\n",
      " [1.65e+03 3.00e+00 1.00e+00 1.90e+01]\n",
      " [1.03e+03 3.00e+00 1.00e+00 6.00e+01]\n",
      " [1.12e+03 2.00e+00 2.00e+00 1.60e+01]\n",
      " [1.15e+03 3.00e+00 1.00e+00 6.20e+01]\n",
      " [8.16e+02 2.00e+00 1.00e+00 3.90e+01]\n",
      " [1.04e+03 3.00e+00 1.00e+00 2.50e+01]\n",
      " [1.39e+03 3.00e+00 1.00e+00 6.40e+01]\n",
      " [1.60e+03 3.00e+00 2.00e+00 2.90e+01]\n",
      " [1.22e+03 3.00e+00 1.00e+00 6.30e+01]\n",
      " [1.07e+03 2.00e+00 1.00e+00 1.00e+02]\n",
      " [2.60e+03 4.00e+00 2.00e+00 2.20e+01]\n",
      " [1.43e+03 3.00e+00 1.00e+00 5.90e+01]\n",
      " [2.09e+03 3.00e+00 2.00e+00 2.60e+01]\n",
      " [1.79e+03 4.00e+00 2.00e+00 4.90e+01]\n",
      " [1.48e+03 3.00e+00 2.00e+00 1.60e+01]\n",
      " [1.04e+03 3.00e+00 1.00e+00 2.50e+01]\n",
      " [1.43e+03 3.00e+00 1.00e+00 2.20e+01]\n",
      " [1.16e+03 3.00e+00 1.00e+00 5.30e+01]\n",
      " [1.55e+03 3.00e+00 2.00e+00 1.20e+01]\n",
      " [1.98e+03 3.00e+00 2.00e+00 2.20e+01]\n",
      " [1.06e+03 3.00e+00 1.00e+00 5.30e+01]\n",
      " [1.18e+03 2.00e+00 1.00e+00 9.90e+01]\n",
      " [1.36e+03 2.00e+00 1.00e+00 1.70e+01]\n",
      " [9.60e+02 3.00e+00 1.00e+00 5.10e+01]\n",
      " [1.46e+03 3.00e+00 2.00e+00 1.60e+01]\n",
      " [1.45e+03 3.00e+00 2.00e+00 2.50e+01]\n",
      " [1.21e+03 2.00e+00 1.00e+00 1.50e+01]\n",
      " [1.55e+03 3.00e+00 2.00e+00 1.60e+01]\n",
      " [8.82e+02 3.00e+00 1.00e+00 4.90e+01]\n",
      " [2.03e+03 4.00e+00 2.00e+00 4.50e+01]\n",
      " [1.04e+03 3.00e+00 1.00e+00 6.20e+01]\n",
      " [1.62e+03 3.00e+00 1.00e+00 1.60e+01]\n",
      " [8.03e+02 2.00e+00 1.00e+00 8.00e+01]\n",
      " [1.43e+03 3.00e+00 2.00e+00 2.10e+01]\n",
      " [1.66e+03 3.00e+00 1.00e+00 6.10e+01]\n",
      " [1.54e+03 3.00e+00 1.00e+00 1.60e+01]\n",
      " [9.48e+02 3.00e+00 1.00e+00 5.30e+01]\n",
      " [1.22e+03 2.00e+00 2.00e+00 1.20e+01]\n",
      " [1.43e+03 2.00e+00 1.00e+00 4.30e+01]\n",
      " [1.66e+03 3.00e+00 2.00e+00 1.90e+01]\n",
      " [1.21e+03 3.00e+00 1.00e+00 2.00e+01]\n",
      " [1.05e+03 2.00e+00 1.00e+00 6.50e+01]]\n"
     ]
    }
   ],
   "source": [
    "linear_model = LinearRegression()\n",
    "linear_model.fit(X_train, y_train)\n",
    "print(X_train)"
   ]
  },
  {
   "cell_type": "code",
   "execution_count": 35,
   "metadata": {},
   "outputs": [
    {
     "name": "stdout",
     "output_type": "stream",
     "text": [
      "w = [  0.27 -32.62 -67.25  -1.47], b = 220.42\n"
     ]
    }
   ],
   "source": [
    "b = linear_model.intercept_\n",
    "w = linear_model.coef_\n",
    "print(f\"w = {w:}, b = {b:0.2f}\")"
   ]
  },
  {
   "cell_type": "code",
   "execution_count": 52,
   "metadata": {},
   "outputs": [
    {
     "name": "stdout",
     "output_type": "stream",
     "text": [
      "Prediction on training set:\n",
      " [295.18 485.98 389.52 492.15]\n",
      "prediction using w,b:\n",
      " [295.18 485.98 389.52 492.15]\n",
      "Target values \n",
      " [300.  509.8 394.  540. ]\n",
      " predicted price of a house with 1200 sqft, 3 bedrooms, 1 floor, 40 years old = $318.71\n"
     ]
    }
   ],
   "source": [
    "print(f\"Prediction on training set:\\n {linear_model.predict(X_train)[:4]}\" )\n",
    "print(f\"prediction using w,b:\\n {(X_train @ w + b)[:4]}\")\n",
    "print(f\"Target values \\n {y_train[:4]}\")\n",
    "\n",
    "x_house = np.array([1200, 3,1, 40]).reshape(-1,4)\n",
    "x_house_predict = linear_model.predict(x_house)\n",
    "print(f\" predicted price of a house with 1200 sqft, 3 bedrooms, 1 floor, 40 years old = ${x_house_predict[0]:0.2f}\")"
   ]
  },
  {
   "cell_type": "markdown",
   "metadata": {},
   "source": [
    "## Congratulations!\n",
    "In this lab you:\n",
    "- utilized an open-source machine learning toolkit, scikit-learn\n",
    "- implemented linear regression using a close-form solution from that toolkit"
   ]
  },
  {
   "cell_type": "code",
   "execution_count": 34,
   "metadata": {},
   "outputs": [],
   "source": []
  }
 ],
 "metadata": {
  "kernelspec": {
   "display_name": "Python 3",
   "language": "python",
   "name": "python3"
  },
  "language_info": {
   "codemirror_mode": {
    "name": "ipython",
    "version": 3
   },
   "file_extension": ".py",
   "mimetype": "text/x-python",
   "name": "python",
   "nbconvert_exporter": "python",
   "pygments_lexer": "ipython3",
   "version": "3.7.6"
  }
 },
 "nbformat": 4,
 "nbformat_minor": 5
}
